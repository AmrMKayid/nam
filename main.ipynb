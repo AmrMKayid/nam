{
 "cells": [
  {
   "cell_type": "code",
   "execution_count": 180,
   "source": [
    "#@title Imports\n",
    "\n",
    "import torch\n",
    "\n",
    "import nam.metrics\n",
    "import nam.data\n",
    "from nam.model import *\n",
    "from nam.pl import *\n",
    "import os.path as osp\n",
    "import numpy as np\n",
    "\n",
    "import matplotlib.pyplot as plt"
   ],
   "outputs": [],
   "metadata": {}
  },
  {
   "cell_type": "code",
   "execution_count": 181,
   "source": [
    "#@title Dataset helpers\n",
    "\n",
    "\n",
    "def load_col_min_max(dataset_name):\n",
    "    \"\"\"Loads the dataset according to the `dataset_name` passed.\"\"\"\n",
    "    dataset = nam.data.load_sklearn_housing_data()\n",
    "\n",
    "    if 'full' in dataset:\n",
    "        dataset = dataset['full']\n",
    "    x = dataset['X']\n",
    "    col_min_max = {}\n",
    "    for col in x:\n",
    "        unique_vals = x[col].unique()\n",
    "        col_min_max[col] = (np.min(unique_vals), np.max(unique_vals))\n",
    "    return col_min_max\n",
    "\n",
    "\n",
    "def inverse_min_max_scaler(x, min_val, max_val):\n",
    "    return (x + 1) / 2 * (max_val - min_val) + min_val\n"
   ],
   "outputs": [],
   "metadata": {}
  },
  {
   "cell_type": "code",
   "execution_count": 182,
   "source": [
    "#@title Load dataset\n",
    "dataset_name = 'sklearn_housing'  #@param {'type': 'string'}\n",
    "is_regression = True\n",
    "housing_data = nam.data.load_dataset(dataset_name)\n",
    "data_x, data_y, column_names = housing_data\n",
    "col_min_max = load_col_min_max(dataset_name)"
   ],
   "outputs": [],
   "metadata": {}
  },
  {
   "cell_type": "code",
   "execution_count": 183,
   "source": [
    "col_min_max"
   ],
   "outputs": [
    {
     "output_type": "execute_result",
     "data": {
      "text/plain": [
       "{'MedInc': (0.4999, 15.0001),\n",
       " 'HouseAge': (1.0, 52.0),\n",
       " 'AveRooms': (0.8461538461538461, 141.9090909090909),\n",
       " 'AveBedrms': (0.3333333333333333, 34.06666666666667),\n",
       " 'Population': (3.0, 35682.0),\n",
       " 'AveOccup': (0.6923076923076923, 1243.3333333333333),\n",
       " 'Latitude': (32.54, 41.95),\n",
       " 'Longitude': (-124.35, -114.31)}"
      ]
     },
     "metadata": {},
     "execution_count": 183
    }
   ],
   "metadata": {}
  },
  {
   "cell_type": "code",
   "execution_count": 184,
   "source": [
    "#@title Create train/test split\n",
    "\n",
    "(x_train_all, y_train_all), test_dataset = nam.data.get_train_test_fold(data_x,\n",
    "                                                                          data_y,\n",
    "                                                                          fold_num=1,\n",
    "                                                                          num_folds=5,\n",
    "                                                                          stratified=not is_regression)\n",
    "data_gen = nam.data.split_training_dataset(x_train_all, y_train_all, n_splits=20, stratified=not is_regression)\n",
    "(x_train, y_train), _ = next(data_gen)"
   ],
   "outputs": [],
   "metadata": {}
  },
  {
   "cell_type": "code",
   "execution_count": 185,
   "source": [
    "x_train.shape"
   ],
   "outputs": [
    {
     "output_type": "execute_result",
     "data": {
      "text/plain": [
       "(14448, 8)"
      ]
     },
     "metadata": {},
     "execution_count": 185
    }
   ],
   "metadata": {}
  },
  {
   "cell_type": "code",
   "execution_count": 186,
   "source": [
    "# # 8 [1000, 104, 1000, 1000, 1000, 1000, 1000, 1000] [] <class 'nam.model.ExULayer'> <class 'nam.model.ReLULayer'> 0.5 0.0\n",
    "# nn_model = NeuralAdditiveModel(input_size=x_train.shape[-1],\n",
    "#                                shallow_units=[64, 64, 64, 64, 64, 64, 64, 64], #[1000, 104, 1000, 1000, 1000, 1000, 1000, 1000],\n",
    "#                                hidden_units=[128,64,32,32],\n",
    "#                                shallow_layer=ExULayer,\n",
    "#                                hidden_layer=ReLULayer,\n",
    "#                                hidden_dropout=0.5,\n",
    "#                                feature_dropout=0.0)\n",
    "# # model\n",
    "nn_model = NAM.load_from_checkpoint('/home/amrmkayid/nam/models/20210929_1759/nam-epoch=07-val_loss=1.37-MAE_epoch=0.86.ckpt')\n",
    "\n",
    "# print(model.learning_rate)\n",
    "# prints the learning_rate you used in this checkpoint\n",
    "\n",
    "nn_model.eval()\n",
    "# y_hat = model(x)\n",
    "nn_model"
   ],
   "outputs": [
    {
     "output_type": "execute_result",
     "data": {
      "text/plain": [
       "NAM(\n",
       "  (model): NeuralAdditiveModel(\n",
       "    (feature_nns): ModuleList(\n",
       "      (0): FeatureNN(\n",
       "        (layers): ModuleList(\n",
       "          (0): ExULayer()\n",
       "          (1): ReLULayer()\n",
       "          (2): ReLULayer()\n",
       "          (3): ReLULayer()\n",
       "        )\n",
       "        (dropout): Dropout(p=0.5, inplace=False)\n",
       "        (linear): Linear(in_features=32, out_features=1, bias=False)\n",
       "      )\n",
       "      (1): FeatureNN(\n",
       "        (layers): ModuleList(\n",
       "          (0): ExULayer()\n",
       "          (1): ReLULayer()\n",
       "          (2): ReLULayer()\n",
       "          (3): ReLULayer()\n",
       "        )\n",
       "        (dropout): Dropout(p=0.5, inplace=False)\n",
       "        (linear): Linear(in_features=32, out_features=1, bias=False)\n",
       "      )\n",
       "      (2): FeatureNN(\n",
       "        (layers): ModuleList(\n",
       "          (0): ExULayer()\n",
       "          (1): ReLULayer()\n",
       "          (2): ReLULayer()\n",
       "          (3): ReLULayer()\n",
       "        )\n",
       "        (dropout): Dropout(p=0.5, inplace=False)\n",
       "        (linear): Linear(in_features=32, out_features=1, bias=False)\n",
       "      )\n",
       "      (3): FeatureNN(\n",
       "        (layers): ModuleList(\n",
       "          (0): ExULayer()\n",
       "          (1): ReLULayer()\n",
       "          (2): ReLULayer()\n",
       "          (3): ReLULayer()\n",
       "        )\n",
       "        (dropout): Dropout(p=0.5, inplace=False)\n",
       "        (linear): Linear(in_features=32, out_features=1, bias=False)\n",
       "      )\n",
       "      (4): FeatureNN(\n",
       "        (layers): ModuleList(\n",
       "          (0): ExULayer()\n",
       "          (1): ReLULayer()\n",
       "          (2): ReLULayer()\n",
       "          (3): ReLULayer()\n",
       "        )\n",
       "        (dropout): Dropout(p=0.5, inplace=False)\n",
       "        (linear): Linear(in_features=32, out_features=1, bias=False)\n",
       "      )\n",
       "      (5): FeatureNN(\n",
       "        (layers): ModuleList(\n",
       "          (0): ExULayer()\n",
       "          (1): ReLULayer()\n",
       "          (2): ReLULayer()\n",
       "          (3): ReLULayer()\n",
       "        )\n",
       "        (dropout): Dropout(p=0.5, inplace=False)\n",
       "        (linear): Linear(in_features=32, out_features=1, bias=False)\n",
       "      )\n",
       "      (6): FeatureNN(\n",
       "        (layers): ModuleList(\n",
       "          (0): ExULayer()\n",
       "          (1): ReLULayer()\n",
       "          (2): ReLULayer()\n",
       "          (3): ReLULayer()\n",
       "        )\n",
       "        (dropout): Dropout(p=0.5, inplace=False)\n",
       "        (linear): Linear(in_features=32, out_features=1, bias=False)\n",
       "      )\n",
       "      (7): FeatureNN(\n",
       "        (layers): ModuleList(\n",
       "          (0): ExULayer()\n",
       "          (1): ReLULayer()\n",
       "          (2): ReLULayer()\n",
       "          (3): ReLULayer()\n",
       "        )\n",
       "        (dropout): Dropout(p=0.5, inplace=False)\n",
       "        (linear): Linear(in_features=32, out_features=1, bias=False)\n",
       "      )\n",
       "    )\n",
       "    (feature_dropout): Dropout(p=0.25, inplace=False)\n",
       "  )\n",
       ")"
      ]
     },
     "metadata": {},
     "execution_count": 186
    }
   ],
   "metadata": {}
  },
  {
   "cell_type": "code",
   "execution_count": 187,
   "source": [
    "# nn_model.load_state_dict(torch.load('models/best3.pth'))"
   ],
   "outputs": [],
   "metadata": {}
  },
  {
   "cell_type": "code",
   "execution_count": 188,
   "source": [
    "#@title Helper functions for generating predictions\n",
    "\n",
    "\n",
    "def partition(lst, batch_size):\n",
    "    lst_len = len(lst)\n",
    "    index = 0\n",
    "    while index < lst_len:\n",
    "        x = lst[index:batch_size + index]\n",
    "        index += batch_size\n",
    "        yield x\n",
    "\n",
    "\n",
    "def generate_predictions(gen, nn_model):\n",
    "    y_pred = []\n",
    "    while True:\n",
    "        try:\n",
    "            x = torch.Tensor(next(gen))\n",
    "            pred = nn_model(x)[0].detach().numpy()\n",
    "            # print(pred)\n",
    "            y_pred.extend(pred)\n",
    "        except Exception as e:\n",
    "            # print(e)\n",
    "            break\n",
    "    return y_pred\n",
    "\n",
    "\n",
    "def get_test_predictions(nn_model, x_test, batch_size=256):\n",
    "    batch_size = min(batch_size, x_test.shape[0])\n",
    "    generator = partition(x_test, batch_size)\n",
    "    return generate_predictions(generator, nn_model)\n",
    "\n",
    "\n",
    "def get_feature_predictions(nn_model, features, batch_size=256):\n",
    "    \"\"\"Get feature predictions for unique values for each feature.\"\"\"\n",
    "    unique_feature_pred, unique_feature_gen = [], []\n",
    "    for i, feature in enumerate(features):\n",
    "        batch_size = min(batch_size, feature.shape[0])\n",
    "        generator = partition(feature, batch_size)\n",
    "        feature_pred = lambda x: nn_model.feature_nns[i](x)  # pylint: disable=protected-access\n",
    "        unique_feature_gen.append(generator)\n",
    "        unique_feature_pred.append(feature_pred)\n",
    "\n",
    "    feature_predictions = [\n",
    "        generate_predictions(generator, feature_pred)\n",
    "        for feature_pred, generator in zip(unique_feature_pred, unique_feature_gen)\n",
    "    ]\n",
    "    feature_predictions = [np.array(x) for x in feature_predictions]\n",
    "    return feature_predictions\n",
    "\n",
    "\n",
    "def compute_features(dataset_name):\n",
    "    x_data, _, _ = nam.data.load_dataset(dataset_name)\n",
    "    single_features = np.split(x_data, x_data.shape[1], axis=1)\n",
    "    unique_features = [np.unique(f, axis=0) for f in single_features]\n",
    "    return unique_features\n"
   ],
   "outputs": [],
   "metadata": {}
  },
  {
   "cell_type": "code",
   "execution_count": 189,
   "source": [
    "#@title Calculate individual feature and test predictions\n",
    "\n",
    "test_predictions = get_test_predictions(nn_model, test_dataset[0])\n",
    "unique_features = compute_features(dataset_name)\n",
    "feature_predictions = get_feature_predictions(nn_model, unique_features)\n",
    "\n",
    "test_metric = nam.metrics.calculate_metric(torch.tensor(test_dataset[1]), torch.tensor(test_predictions), regression=is_regression)\n",
    "metric_str = 'RMSE' if is_regression else 'AUROC'\n",
    "print(f'{metric_str}: {test_metric}')"
   ],
   "outputs": [
    {
     "output_type": "stream",
     "name": "stdout",
     "text": [
      "RMSE: ('MAE', 0.8629047274589539)\n"
     ]
    }
   ],
   "metadata": {}
  },
  {
   "cell_type": "code",
   "execution_count": 190,
   "source": [
    "feature_contributions = []\n",
    "\n",
    "for i, feature in enumerate(unique_features):\n",
    "    feature = torch.tensor(feature).float()\n",
    "    feat_contribution = nn_model.model.feature_nns[i](feature).cpu().detach().numpy().squeeze()\n",
    "    feature_contributions.append(feat_contribution)"
   ],
   "outputs": [],
   "metadata": {}
  },
  {
   "cell_type": "code",
   "execution_count": 191,
   "source": [
    "for u,c in zip(unique_features, feature_contributions):\n",
    "    print(u.shape, c.shape)"
   ],
   "outputs": [
    {
     "output_type": "stream",
     "name": "stdout",
     "text": [
      "(12928, 1) (12928,)\n",
      "(52, 1) (52,)\n",
      "(19372, 1) (19372,)\n",
      "(14226, 1) (14226,)\n",
      "(3888, 1) (3888,)\n",
      "(16992, 1) (16992,)\n",
      "(862, 1) (862,)\n",
      "(844, 1) (844,)\n"
     ]
    }
   ],
   "metadata": {}
  },
  {
   "cell_type": "code",
   "execution_count": 192,
   "source": [
    "feature_predictions = feature_contributions"
   ],
   "outputs": [],
   "metadata": {}
  },
  {
   "cell_type": "code",
   "execution_count": 193,
   "source": [
    "#@title Individual arrays for each Dataset feature\n",
    "\n",
    "NUM_FEATURES = data_x.shape[1]\n",
    "SINGLE_FEATURES = np.split(data_x, NUM_FEATURES, axis=1)\n",
    "UNIQUE_FEATURES = [np.unique(x, axis=0) for x in SINGLE_FEATURES]\n",
    "\n",
    "SINGLE_FEATURES_ORIGINAL = {}\n",
    "UNIQUE_FEATURES_ORIGINAL = {}\n",
    "for i, col in enumerate(column_names):\n",
    "    min_val, max_val = col_min_max[col]\n",
    "    UNIQUE_FEATURES_ORIGINAL[col] = inverse_min_max_scaler(UNIQUE_FEATURES[i][:, 0], min_val, max_val)\n",
    "    SINGLE_FEATURES_ORIGINAL[col] = inverse_min_max_scaler(SINGLE_FEATURES[i][:, 0], min_val, max_val)\n"
   ],
   "outputs": [],
   "metadata": {}
  },
  {
   "cell_type": "code",
   "execution_count": 194,
   "source": [
    "#@title Feature label mappings and column names\n",
    "FEATURE_LABEL_MAPPING = {}\n",
    "FEATURE_LABEL_MAPPING['Housing'] = {}\n",
    "FEATURE_LABEL_MAPPING['sklearn_housing'] = {}\n",
    "\n",
    "#@title Column Names\n",
    "\n",
    "COL_NAMES = {}\n",
    "\n",
    "COL_NAMES['sklearn_housing'] = {\n",
    "    'MedInc': 'Median Income',\n",
    "    'HouseAge': 'Median House Age',\n",
    "    'AveRooms': '# Avg Rooms',\n",
    "    'AveBedrms': '# Avg Bedrooms',\n",
    "    'Population': 'Block Population',\n",
    "    'AveOccup': '# Avg Occupancy',\n",
    "    'Latitude': 'Latitude',\n",
    "    'Longitude': 'Longitude'\n",
    "}"
   ],
   "outputs": [],
   "metadata": {}
  },
  {
   "cell_type": "code",
   "execution_count": 195,
   "source": [
    "CATEGORICAL_NAMES = []"
   ],
   "outputs": [],
   "metadata": {}
  },
  {
   "cell_type": "code",
   "execution_count": 196,
   "source": [
    "avg_hist_data = {col: predictions for col, predictions in zip(column_names, feature_predictions)}"
   ],
   "outputs": [],
   "metadata": {}
  },
  {
   "cell_type": "code",
   "execution_count": 197,
   "source": [
    "#@title Calculate the mean prediction\n",
    "\n",
    "ALL_INDICES = {}\n",
    "MEAN_PRED = {}\n",
    "\n",
    "for i, col in enumerate(column_names):\n",
    "    x_i = data_x[:, i]\n",
    "    ALL_INDICES[col] = np.searchsorted(UNIQUE_FEATURES[i][:, 0], x_i, 'left')\n",
    "for col in column_names:\n",
    "    MEAN_PRED[col] = np.mean([avg_hist_data[col][i] for i in ALL_INDICES[col]])\n",
    "\n",
    "print(MEAN_PRED)"
   ],
   "outputs": [
    {
     "output_type": "stream",
     "name": "stdout",
     "text": [
      "{'MedInc': 0.07270645, 'HouseAge': 0.073207274, 'AveRooms': 0.08092361, 'AveBedrms': 0.061300896, 'Population': 0.07532747, 'AveOccup': 0.07965234, 'Latitude': 0.06685479, 'Longitude': 0.0840732}\n"
     ]
    }
   ],
   "metadata": {}
  },
  {
   "cell_type": "code",
   "execution_count": 198,
   "source": [
    "#@title Helpers for MEAN feature importance\n",
    "\n",
    "\n",
    "def compute_mean_feature_importance(avg_hist_data):\n",
    "    mean_abs_score = {}\n",
    "    for k in avg_hist_data:\n",
    "        mean_abs_score[k] = np.mean(np.abs(avg_hist_data[k] - MEAN_PRED[k]))\n",
    "    x1, x2 = zip(*mean_abs_score.items())\n",
    "    return x1, x2\n",
    "\n",
    "\n",
    "def plot_mean_feature_importance(x1, x2, width=0.3):\n",
    "    fig = plt.figure(figsize=(5, 4))\n",
    "    ind = np.arange(len(x1))  # the x locations for the groups\n",
    "    x1_indices = np.argsort(x2)\n",
    "    cols_here = [cols[i] for i in x1_indices]\n",
    "    # x1_here = [x12[i] for i in x1_indices]\n",
    "    x2_here = [x2[i] for i in x1_indices]\n",
    "\n",
    "    plt.bar(ind, x2_here, width, label='NAMs')\n",
    "    # plt.bar(ind+width, x1_here, width, label='EBMs')\n",
    "    plt.xticks(ind + width / 2, cols_here, rotation=90, fontsize='large')\n",
    "    plt.ylabel('Mean Absolute Score', fontsize='x-large')\n",
    "    plt.legend(loc='upper right', fontsize='large')\n",
    "    plt.title(f'Overall Importance: {dataset_name}', fontsize='x-large')\n",
    "    plt.show()\n",
    "    return fig\n"
   ],
   "outputs": [],
   "metadata": {}
  },
  {
   "cell_type": "code",
   "execution_count": 199,
   "source": [
    "#@title Global feature importance\n",
    "\n",
    "x1, x2 = compute_mean_feature_importance(avg_hist_data)\n",
    "cols = [COL_NAMES[dataset_name][x] for x in x1]\n",
    "fig = plot_mean_feature_importance(x1, x2)\n"
   ],
   "outputs": [
    {
     "output_type": "display_data",
     "data": {
      "image/png": "[encoded data removed]",
      "text/plain": [
       "<Figure size 360x288 with 1 Axes>"
      ]
     },
     "metadata": {
      "needs_background": "light"
     }
    }
   ],
   "metadata": {}
  },
  {
   "cell_type": "code",
   "execution_count": 200,
   "source": [
    "#@title Plotting Helper Functions\n",
    "\n",
    "import matplotlib.pyplot as plt\n",
    "import seaborn\n",
    "import matplotlib.patches as patches\n",
    "\n",
    "\n",
    "def shade_by_density_blocks(hist_data, num_rows, num_cols, n_blocks=5, color=[0.9, 0.5, 0.5], feature_to_use=None):\n",
    "    hist_data_pairs = list(hist_data.items())\n",
    "    hist_data_pairs.sort(key=lambda x: x[0])\n",
    "    min_y = np.min([np.min(a[1]) for a in hist_data_pairs])\n",
    "    max_y = np.max([np.max(a[1]) for a in hist_data_pairs])\n",
    "    min_max_dif = max_y - min_y\n",
    "    min_y = min_y - 0.01 * min_max_dif\n",
    "    max_y = max_y + 0.01 * min_max_dif\n",
    "\n",
    "    if feature_to_use:\n",
    "        hist_data_pairs = [v for v in hist_data_pairs if v[0] in feature_to_use]\n",
    "\n",
    "    for i, (name, pred) in enumerate(hist_data_pairs):\n",
    "\n",
    "        # unique_x_data, single_feature_data, pred = data\n",
    "        unique_x_data = UNIQUE_FEATURES_ORIGINAL[name]\n",
    "        single_feature_data = SINGLE_FEATURES_ORIGINAL[name]\n",
    "        ax = plt.subplot(num_rows, num_cols, i + 1)\n",
    "        min_x = np.min(unique_x_data)\n",
    "        max_x = np.max(unique_x_data)\n",
    "        x_n_blocks = min(n_blocks, len(unique_x_data))\n",
    "        if name in CATEGORICAL_NAMES:\n",
    "            min_x -= 0.5\n",
    "            max_x += 0.5\n",
    "        segments = (max_x - min_x) / x_n_blocks\n",
    "        density = np.histogram(single_feature_data, bins=x_n_blocks)\n",
    "        normed_density = density[0] / np.max(density[0])\n",
    "        rect_params = []\n",
    "        for p in range(x_n_blocks):\n",
    "            start_x = min_x + segments * p\n",
    "            end_x = min_x + segments * (p + 1)\n",
    "            # start_insert_index = min(\n",
    "            #     max(0, np.searchsorted(density[1], start_x) - 1), x_n_blocks - 1)\n",
    "            # end_insert_index = min(\n",
    "            #     max(0, np.searchsorted(density[1], end_x) - 1), x_n_blocks - 1)\n",
    "            # d = (normed_density[start_insert_index] + normed_density[end_insert_index])/2\n",
    "            d = min(1.0, 0.01 + normed_density[p])\n",
    "            rect_params.append((d, start_x, end_x))\n",
    "\n",
    "        for param in rect_params:\n",
    "            alpha, start_x, end_x = param\n",
    "            rect = patches.Rectangle((start_x, min_y - 1),\n",
    "                                     end_x - start_x,\n",
    "                                     max_y - min_y + 1,\n",
    "                                     linewidth=0.01,\n",
    "                                     edgecolor=color,\n",
    "                                     facecolor=color,\n",
    "                                     alpha=alpha)\n",
    "            ax.add_patch(rect)\n",
    "\n",
    "\n",
    "def plot_all_hist(hist_data,\n",
    "                  num_rows,\n",
    "                  num_cols,\n",
    "                  color_base,\n",
    "                  linewidth=3.0,\n",
    "                  min_y=None,\n",
    "                  max_y=None,\n",
    "                  alpha=1.0,\n",
    "                  feature_to_use=None):\n",
    "    hist_data_pairs = list(hist_data.items())\n",
    "    hist_data_pairs.sort(key=lambda x: x[0])\n",
    "    if min_y is None:\n",
    "        min_y = np.min([np.min(a) for _, a in hist_data_pairs])\n",
    "    if max_y is None:\n",
    "        max_y = np.max([np.max(a) for _, a in hist_data_pairs])\n",
    "    min_max_dif = max_y - min_y\n",
    "    min_y = min_y - 0.01 * min_max_dif\n",
    "    max_y = max_y + 0.01 * min_max_dif\n",
    "    col_mapping = COL_NAMES[dataset_name]\n",
    "    feature_mapping = FEATURE_LABEL_MAPPING[dataset_name]\n",
    "\n",
    "    total_mean_bias = 0\n",
    "\n",
    "    if feature_to_use:\n",
    "        hist_data_pairs = [v for v in hist_data_pairs if v[0] in feature_to_use]\n",
    "\n",
    "    for i, (name, pred) in enumerate(hist_data_pairs):\n",
    "        mean_pred = MEAN_PRED[name]  #np.mean(pred)\n",
    "        total_mean_bias += mean_pred\n",
    "        unique_x_data = UNIQUE_FEATURES_ORIGINAL[name]\n",
    "        plt.subplot(num_rows, num_cols, i + 1)\n",
    "\n",
    "        if name in CATEGORICAL_NAMES:\n",
    "            unique_x_data = np.round(unique_x_data, decimals=1)\n",
    "            if len(unique_x_data) <= 2:\n",
    "                step_loc = \"mid\"\n",
    "            else:\n",
    "                step_loc = \"post\"\n",
    "            unique_plot_data = np.array(unique_x_data) - 0.5\n",
    "            unique_plot_data[-1] += 1\n",
    "            plt.step(unique_plot_data,\n",
    "                     pred - mean_pred,\n",
    "                     color=color_base,\n",
    "                     linewidth=linewidth,\n",
    "                     where=step_loc,\n",
    "                     alpha=alpha)\n",
    "\n",
    "            if name in feature_mapping:\n",
    "                labels, rot = feature_mapping[name]\n",
    "            else:\n",
    "                labels = unique_x_data\n",
    "                rot = None\n",
    "            plt.xticks(unique_x_data, labels=labels, fontsize='x-large', rotation=rot)\n",
    "        else:\n",
    "            plt.plot(unique_x_data, pred - mean_pred, color=color_base, linewidth=linewidth, alpha=alpha)\n",
    "            plt.xticks(fontsize='x-large')\n",
    "\n",
    "        plt.ylim(min_y, max_y)\n",
    "        plt.yticks(fontsize='x-large')\n",
    "        min_x = np.min(unique_x_data)\n",
    "        max_x = np.max(unique_x_data)\n",
    "        if name in CATEGORICAL_NAMES:\n",
    "            min_x -= 0.5\n",
    "            max_x += 0.5\n",
    "        plt.xlim(min_x, max_x)\n",
    "        if i % num_cols == 0:\n",
    "            plt.ylabel('House Price Contribution', fontsize='x-large')\n",
    "        plt.xlabel(col_mapping[name], fontsize='x-large')\n",
    "    return min_y, max_y\n"
   ],
   "outputs": [],
   "metadata": {}
  },
  {
   "cell_type": "code",
   "execution_count": 201,
   "source": [
    "COLORS = [[0.9, 0.4, 0.5], [0.5, 0.9, 0.4], [0.4, 0.5, 0.9], [0.9, 0.5, 0.9]]\n",
    "NUM_COLS = 4  #@param {'type': 'integer'}\n",
    "N_BLOCKS = 20  #@param\n",
    "\n",
    "# MIN_Y = -10#None\n",
    "# MAX_Y = 10#None\n",
    "MIN_Y = None\n",
    "MAX_Y = None\n",
    "\n",
    "NUM_ROWS = int(np.ceil(NUM_FEATURES / NUM_COLS))\n",
    "fig = plt.figure(num=None, figsize=(NUM_COLS * 10, NUM_ROWS * 10), facecolor='w', edgecolor='k')\n",
    "\n",
    "MIN_Y, MAX_Y = plot_all_hist(avg_hist_data,\n",
    "                             NUM_ROWS,\n",
    "                             NUM_COLS,\n",
    "                             COLORS[2],\n",
    "                             min_y=MIN_Y,\n",
    "                             max_y=MAX_Y,\n",
    "                             feature_to_use=column_names)\n",
    "shade_by_density_blocks(avg_hist_data, NUM_ROWS, NUM_COLS, n_blocks=N_BLOCKS, feature_to_use=column_names)\n",
    "\n",
    "# This is for plotting individual plots when there are multiple models\n",
    "\"\"\"\n",
    "for pred in feature_predictions:\n",
    "  model_hist = {col: pred[0, i] for i, col in enumerate(column_names)}\n",
    "  plot_all_hist(model_hist, NUM_ROWS, NUM_COLS,\n",
    "                color_base=[0.3, 0.4, 0.9, 0.2], alpha=0.06,\n",
    "                linewidth=0.1, min_y=MIN_Y, max_y=MAX_Y, feature_to_use=features)\n",
    "\"\"\"\n",
    "plt.subplots_adjust(hspace=0.25)\n",
    "plt.show()"
   ],
   "outputs": [
    {
     "output_type": "display_data",
     "data": {
      "image/png": "[encoded data removed]",
      "text/plain": [
       "<Figure size 2880x1440 with 8 Axes>"
      ]
     },
     "metadata": {}
    }
   ],
   "metadata": {}
  },
  {
   "cell_type": "code",
   "execution_count": null,
   "source": [],
   "outputs": [],
   "metadata": {}
  }
 ],
 "metadata": {
  "orig_nbformat": 4,
  "language_info": {
   "name": "python",
   "version": "3.8.11",
   "mimetype": "text/x-python",
   "codemirror_mode": {
    "name": "ipython",
    "version": 3
   },
   "pygments_lexer": "ipython3",
   "nbconvert_exporter": "python",
   "file_extension": ".py"
  },
  "kernelspec": {
   "name": "python3",
   "display_name": "Python 3.8.11 64-bit ('nam': conda)"
  },
  "interpreter": {
   "hash": "b50af74b88e2c0bc6478fcb9bb6f187ad4a798847f880c76b576de5dd1fb6f88"
  }
 },
 "nbformat": 4,
 "nbformat_minor": 2
}