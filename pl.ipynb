{
 "cells": [
  {
   "cell_type": "code",
   "execution_count": 1,
   "source": [
    "import os\n",
    "\n",
    "import torch\n",
    "from torch import nn\n",
    "from torch.nn import functional as F\n",
    "from torch.utils.data import DataLoader, random_split\n",
    "import pytorch_lightning as pl\n",
    "from pytorch_lightning.metrics.functional import accuracy\n",
    "from pytorch_lightning.callbacks import ModelCheckpoint\n",
    "\n",
    "import os\n",
    "import tqdm\n",
    "import copy\n",
    "import random\n",
    "import logging\n",
    "from absl import app\n",
    "from absl import flags\n",
    "from torch.utils.data import TensorDataset, DataLoader\n",
    "\n",
    "import nam.metrics\n",
    "import nam.data\n",
    "from nam.model import *\n",
    "from nam.pl import *\n",
    "from datetime import datetime\n",
    "\n",
    "from pytorch_lightning.loggers import WandbLogger\n",
    "import wandb\n",
    "\n",
    "FLAGS = flags.FLAGS"
   ],
   "outputs": [],
   "metadata": {}
  },
  {
   "cell_type": "code",
   "execution_count": 2,
   "source": [
    "config = defaults()\n",
    "print(config)"
   ],
   "outputs": [
    {
     "output_type": "stream",
     "name": "stdout",
     "text": [
      "Config(activation='exu', batch_size=1024, cross_val=False, data_path='data/GALLUP.csv', decay_rate=0.995, device='cpu', dropout=0.5, early_stopping_patience=50, experiment_name='NAM', feature_dropout=0.25, hidden_layer='relu', hidden_units=[64, 32, 32], id_fold=1, l2_regularization=0.001, learning_rate=0.00674, logdir='output', n_basis_functions=1024, n_folds=5, n_splits=3, num_epochs=10, num_models=1, output_regularization=0.01, regression=True, save_model_frequency=2, save_top_k=3, seed=2021, shallow_layer='exu', shuffle=True, units_multiplier=2, use_dnn=False, wandb=False)\n"
     ]
    }
   ],
   "metadata": {}
  },
  {
   "cell_type": "code",
   "execution_count": 3,
   "source": [
    "wandb.init(project=\"nam-final\", config=config)"
   ],
   "outputs": [
    {
     "output_type": "stream",
     "name": "stderr",
     "text": [
      "Failed to detect the name of this notebook, you can set it manually with the WANDB_NOTEBOOK_NAME environment variable to enable code saving.\n",
      "\u001b[34m\u001b[1mwandb\u001b[0m: Currently logged in as: \u001b[33mamrmkayid\u001b[0m (use `wandb login --relogin` to force relogin)\n"
     ]
    },
    {
     "output_type": "display_data",
     "data": {
      "text/html": [
       "\n",
       "                Tracking run with wandb version 0.12.2<br/>\n",
       "                Syncing run <strong style=\"color:#cdcd00\">colorful-shape-3</strong> to <a href=\"https://wandb.ai\" target=\"_blank\">Weights & Biases</a> <a href=\"https://docs.wandb.com/integrations/jupyter.html\" target=\"_blank\">(Documentation)</a>.<br/>\n",
       "                Project page: <a href=\"https://wandb.ai/amrmkayid/nam-final\" target=\"_blank\">https://wandb.ai/amrmkayid/nam-final</a><br/>\n",
       "                Run page: <a href=\"https://wandb.ai/amrmkayid/nam-final/runs/2okjwian\" target=\"_blank\">https://wandb.ai/amrmkayid/nam-final/runs/2okjwian</a><br/>\n",
       "                Run data is saved locally in <code>/home/amrmkayid/nam/wandb/run-20210929_175916-2okjwian</code><br/><br/>\n",
       "            "
      ],
      "text/plain": [
       "<IPython.core.display.HTML object>"
      ]
     },
     "metadata": {}
    },
    {
     "output_type": "execute_result",
     "data": {
      "text/html": [
       "<h1>Run(2okjwian)</h1><iframe src=\"https://wandb.ai/amrmkayid/nam-final/runs/2okjwian\" style=\"border:none;width:100%;height:400px\"></iframe>"
      ],
      "text/plain": [
       "<wandb.sdk.wandb_run.Run at 0x7f33b1a0b310>"
      ]
     },
     "metadata": {},
     "execution_count": 3
    }
   ],
   "metadata": {}
  },
  {
   "cell_type": "code",
   "execution_count": 4,
   "source": [
    "nam_data = NAMDataModule(config)"
   ],
   "outputs": [],
   "metadata": {}
  },
  {
   "cell_type": "code",
   "execution_count": 5,
   "source": [
    "# init model\n",
    "nam_model = NAM(config=config, x_train=nam_data.tmp_x_train)\n",
    "nam_model"
   ],
   "outputs": [
    {
     "output_type": "execute_result",
     "data": {
      "text/plain": [
       "NAM(\n",
       "  (model): NeuralAdditiveModel(\n",
       "    (feature_nns): ModuleList(\n",
       "      (0): FeatureNN(\n",
       "        (layers): ModuleList(\n",
       "          (0): ExULayer()\n",
       "          (1): ReLULayer()\n",
       "          (2): ReLULayer()\n",
       "          (3): ReLULayer()\n",
       "        )\n",
       "        (dropout): Dropout(p=0.5, inplace=False)\n",
       "        (linear): Linear(in_features=32, out_features=1, bias=False)\n",
       "      )\n",
       "      (1): FeatureNN(\n",
       "        (layers): ModuleList(\n",
       "          (0): ExULayer()\n",
       "          (1): ReLULayer()\n",
       "          (2): ReLULayer()\n",
       "          (3): ReLULayer()\n",
       "        )\n",
       "        (dropout): Dropout(p=0.5, inplace=False)\n",
       "        (linear): Linear(in_features=32, out_features=1, bias=False)\n",
       "      )\n",
       "      (2): FeatureNN(\n",
       "        (layers): ModuleList(\n",
       "          (0): ExULayer()\n",
       "          (1): ReLULayer()\n",
       "          (2): ReLULayer()\n",
       "          (3): ReLULayer()\n",
       "        )\n",
       "        (dropout): Dropout(p=0.5, inplace=False)\n",
       "        (linear): Linear(in_features=32, out_features=1, bias=False)\n",
       "      )\n",
       "      (3): FeatureNN(\n",
       "        (layers): ModuleList(\n",
       "          (0): ExULayer()\n",
       "          (1): ReLULayer()\n",
       "          (2): ReLULayer()\n",
       "          (3): ReLULayer()\n",
       "        )\n",
       "        (dropout): Dropout(p=0.5, inplace=False)\n",
       "        (linear): Linear(in_features=32, out_features=1, bias=False)\n",
       "      )\n",
       "      (4): FeatureNN(\n",
       "        (layers): ModuleList(\n",
       "          (0): ExULayer()\n",
       "          (1): ReLULayer()\n",
       "          (2): ReLULayer()\n",
       "          (3): ReLULayer()\n",
       "        )\n",
       "        (dropout): Dropout(p=0.5, inplace=False)\n",
       "        (linear): Linear(in_features=32, out_features=1, bias=False)\n",
       "      )\n",
       "      (5): FeatureNN(\n",
       "        (layers): ModuleList(\n",
       "          (0): ExULayer()\n",
       "          (1): ReLULayer()\n",
       "          (2): ReLULayer()\n",
       "          (3): ReLULayer()\n",
       "        )\n",
       "        (dropout): Dropout(p=0.5, inplace=False)\n",
       "        (linear): Linear(in_features=32, out_features=1, bias=False)\n",
       "      )\n",
       "      (6): FeatureNN(\n",
       "        (layers): ModuleList(\n",
       "          (0): ExULayer()\n",
       "          (1): ReLULayer()\n",
       "          (2): ReLULayer()\n",
       "          (3): ReLULayer()\n",
       "        )\n",
       "        (dropout): Dropout(p=0.5, inplace=False)\n",
       "        (linear): Linear(in_features=32, out_features=1, bias=False)\n",
       "      )\n",
       "      (7): FeatureNN(\n",
       "        (layers): ModuleList(\n",
       "          (0): ExULayer()\n",
       "          (1): ReLULayer()\n",
       "          (2): ReLULayer()\n",
       "          (3): ReLULayer()\n",
       "        )\n",
       "        (dropout): Dropout(p=0.5, inplace=False)\n",
       "        (linear): Linear(in_features=32, out_features=1, bias=False)\n",
       "      )\n",
       "    )\n",
       "    (feature_dropout): Dropout(p=0.25, inplace=False)\n",
       "  )\n",
       ")"
      ]
     },
     "metadata": {},
     "execution_count": 5
    }
   ],
   "metadata": {}
  },
  {
   "cell_type": "code",
   "execution_count": 6,
   "source": [
    "wandb_logger = WandbLogger()\n",
    "\n",
    "# optional: log model topology\n",
    "wandb_logger.watch(nam_model.model)"
   ],
   "outputs": [],
   "metadata": {}
  },
  {
   "cell_type": "code",
   "execution_count": 7,
   "source": [
    "# Initialize a trainer\n",
    "checkpoint_callback = ModelCheckpoint(\n",
    "    monitor=\"val_loss\",\n",
    "    dirpath=f\"/home/amrmkayid/nam/models/{datetime.now().strftime('%Y%m%d_%H%M')}/\",\n",
    "    filename=\"nam-{epoch:02d}-{val_loss:.2f}-{MAE_epoch:.2f}\",\n",
    "    save_top_k=3,\n",
    "    mode=\"min\",\n",
    ")\n",
    "trainer = pl.Trainer(max_epochs=config.num_epochs, logger=wandb_logger, callbacks=[checkpoint_callback])  #, progress_bar_refresh_rate=20)\n",
    "\n",
    "# # Train the model ⚡\n",
    "trainer.fit(nam_model, nam_data)"
   ],
   "outputs": [
    {
     "output_type": "stream",
     "name": "stderr",
     "text": [
      "GPU available: False, used: False\n",
      "TPU available: False, using: 0 TPU cores\n",
      "IPU available: False, using: 0 IPUs\n",
      "\u001b[34m\u001b[1mwandb\u001b[0m: \u001b[33mWARNING\u001b[0m Serializing object of type ndarray that is 462456 bytes\n",
      "\n",
      "  | Name  | Type                | Params\n",
      "----------------------------------------------\n",
      "0 | model | NeuralAdditiveModel | 505 K \n",
      "----------------------------------------------\n",
      "505 K     Trainable params\n",
      "0         Non-trainable params\n",
      "505 K     Total params\n",
      "2.022     Total estimated model params size (MB)\n"
     ]
    },
    {
     "output_type": "display_data",
     "data": {
      "application/vnd.jupyter.widget-view+json": {
       "version_major": 2,
       "version_minor": 0,
       "model_id": "26f212a0c3cc46e4b1127a005dcd5c97"
      },
      "text/plain": [
       "Validation sanity check: 0it [00:00, ?it/s]"
      ]
     },
     "metadata": {}
    },
    {
     "output_type": "stream",
     "name": "stderr",
     "text": [
      "/home/amrmkayid/miniconda3/envs/nam/lib/python3.8/site-packages/pytorch_lightning/trainer/data_loading.py:326: UserWarning: The number of training samples (43) is smaller than the logging interval Trainer(log_every_n_steps=50). Set a lower value for log_every_n_steps if you want to see logs for the training epoch.\n",
      "  rank_zero_warn(\n"
     ]
    },
    {
     "output_type": "display_data",
     "data": {
      "application/vnd.jupyter.widget-view+json": {
       "version_major": 2,
       "version_minor": 0,
       "model_id": "b9874fa12a7a4f1bb7a647725bbb7eda"
      },
      "text/plain": [
       "Training: -1it [00:00, ?it/s]"
      ]
     },
     "metadata": {}
    },
    {
     "output_type": "display_data",
     "data": {
      "application/vnd.jupyter.widget-view+json": {
       "version_major": 2,
       "version_minor": 0,
       "model_id": "fed108ecf1b743b991f1005dc55cdb7b"
      },
      "text/plain": [
       "Validating: 0it [00:00, ?it/s]"
      ]
     },
     "metadata": {}
    },
    {
     "output_type": "display_data",
     "data": {
      "application/vnd.jupyter.widget-view+json": {
       "version_major": 2,
       "version_minor": 0,
       "model_id": "e433f48a399f449fadab31ecddbe98d9"
      },
      "text/plain": [
       "Validating: 0it [00:00, ?it/s]"
      ]
     },
     "metadata": {}
    },
    {
     "output_type": "display_data",
     "data": {
      "application/vnd.jupyter.widget-view+json": {
       "version_major": 2,
       "version_minor": 0,
       "model_id": "928a66f65a7b498290d58f669502fb82"
      },
      "text/plain": [
       "Validating: 0it [00:00, ?it/s]"
      ]
     },
     "metadata": {}
    },
    {
     "output_type": "display_data",
     "data": {
      "application/vnd.jupyter.widget-view+json": {
       "version_major": 2,
       "version_minor": 0,
       "model_id": "c67e5b7cde794bd29667fa74265cc3b0"
      },
      "text/plain": [
       "Validating: 0it [00:00, ?it/s]"
      ]
     },
     "metadata": {}
    },
    {
     "output_type": "display_data",
     "data": {
      "application/vnd.jupyter.widget-view+json": {
       "version_major": 2,
       "version_minor": 0,
       "model_id": "bba2fa9e991e41dd90f8c71a1c9db53d"
      },
      "text/plain": [
       "Validating: 0it [00:00, ?it/s]"
      ]
     },
     "metadata": {}
    },
    {
     "output_type": "display_data",
     "data": {
      "application/vnd.jupyter.widget-view+json": {
       "version_major": 2,
       "version_minor": 0,
       "model_id": "5eb20635587240f78b4874466e89451d"
      },
      "text/plain": [
       "Validating: 0it [00:00, ?it/s]"
      ]
     },
     "metadata": {}
    },
    {
     "output_type": "display_data",
     "data": {
      "application/vnd.jupyter.widget-view+json": {
       "version_major": 2,
       "version_minor": 0,
       "model_id": "10bd43f23e8449acbf40e5b80780e8fb"
      },
      "text/plain": [
       "Validating: 0it [00:00, ?it/s]"
      ]
     },
     "metadata": {}
    },
    {
     "output_type": "display_data",
     "data": {
      "application/vnd.jupyter.widget-view+json": {
       "version_major": 2,
       "version_minor": 0,
       "model_id": "9c72af4638a44d1ab1f60364fc15e727"
      },
      "text/plain": [
       "Validating: 0it [00:00, ?it/s]"
      ]
     },
     "metadata": {}
    },
    {
     "output_type": "display_data",
     "data": {
      "application/vnd.jupyter.widget-view+json": {
       "version_major": 2,
       "version_minor": 0,
       "model_id": "d545ca79ef8b43e9a6779bdf306f3380"
      },
      "text/plain": [
       "Validating: 0it [00:00, ?it/s]"
      ]
     },
     "metadata": {}
    },
    {
     "output_type": "display_data",
     "data": {
      "application/vnd.jupyter.widget-view+json": {
       "version_major": 2,
       "version_minor": 0,
       "model_id": "6e5930be4fa647e48de0407329307384"
      },
      "text/plain": [
       "Validating: 0it [00:00, ?it/s]"
      ]
     },
     "metadata": {}
    }
   ],
   "metadata": {}
  },
  {
   "cell_type": "code",
   "execution_count": 8,
   "source": [
    "trainer.test(datamodule=nam_data)"
   ],
   "outputs": [
    {
     "output_type": "stream",
     "name": "stderr",
     "text": [
      "/home/amrmkayid/miniconda3/envs/nam/lib/python3.8/site-packages/pytorch_lightning/core/datamodule.py:423: LightningDeprecationWarning: DataModule.prepare_data has already been called, so it will not be called again. In v1.6 this behavior will change to always call DataModule.prepare_data.\n",
      "  rank_zero_deprecation(\n",
      "\u001b[34m\u001b[1mwandb\u001b[0m: \u001b[33mWARNING\u001b[0m Serializing object of type ndarray that is 462456 bytes\n"
     ]
    },
    {
     "output_type": "display_data",
     "data": {
      "application/vnd.jupyter.widget-view+json": {
       "version_major": 2,
       "version_minor": 0,
       "model_id": "b71c875060c546aebd162515345e47d9"
      },
      "text/plain": [
       "Testing: 0it [00:00, ?it/s]"
      ]
     },
     "metadata": {}
    },
    {
     "output_type": "stream",
     "name": "stdout",
     "text": [
      "--------------------------------------------------------------------------------\n",
      "DATALOADER:0 TEST RESULTS\n",
      "{'test_MAE': 0.8534360527992249, 'test_loss': 1.3207871913909912}\n",
      "--------------------------------------------------------------------------------\n"
     ]
    },
    {
     "output_type": "execute_result",
     "data": {
      "text/plain": [
       "[{'test_loss': 1.3207871913909912, 'test_MAE': 0.8534360527992249}]"
      ]
     },
     "metadata": {},
     "execution_count": 8
    }
   ],
   "metadata": {}
  },
  {
   "cell_type": "code",
   "execution_count": null,
   "source": [],
   "outputs": [],
   "metadata": {}
  }
 ],
 "metadata": {
  "orig_nbformat": 4,
  "language_info": {
   "name": "python",
   "version": "3.8.11",
   "mimetype": "text/x-python",
   "codemirror_mode": {
    "name": "ipython",
    "version": 3
   },
   "pygments_lexer": "ipython3",
   "nbconvert_exporter": "python",
   "file_extension": ".py"
  },
  "kernelspec": {
   "name": "python3",
   "display_name": "Python 3.8.11 64-bit ('nam': conda)"
  },
  "interpreter": {
   "hash": "b50af74b88e2c0bc6478fcb9bb6f187ad4a798847f880c76b576de5dd1fb6f88"
  }
 },
 "nbformat": 4,
 "nbformat_minor": 2
}