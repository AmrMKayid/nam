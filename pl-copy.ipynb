{
 "cells": [
  {
   "cell_type": "code",
   "execution_count": 1,
   "source": [
    "import os\n",
    "\n",
    "import torch\n",
    "from torch import nn\n",
    "from torch.nn import functional as F\n",
    "from torch.utils.data import DataLoader, random_split\n",
    "import pytorch_lightning as pl\n",
    "from pytorch_lightning.metrics.functional import accuracy\n",
    "from pytorch_lightning.callbacks import ModelCheckpoint\n",
    "\n",
    "import os\n",
    "import tqdm\n",
    "import copy\n",
    "import random\n",
    "import logging\n",
    "from absl import app\n",
    "from absl import flags\n",
    "from torch.utils.data import TensorDataset, DataLoader\n",
    "\n",
    "import nam.metrics\n",
    "import nam.data\n",
    "from nam.model import *\n",
    "from nam.pl import *\n",
    "\n",
    "FLAGS = flags.FLAGS"
   ],
   "outputs": [],
   "metadata": {}
  },
  {
   "cell_type": "code",
   "execution_count": 2,
   "source": [
    "config = defaults()\n",
    "print(config)"
   ],
   "outputs": [
    {
     "output_type": "stream",
     "name": "stdout",
     "text": [
      "Config(activation='exu', batch_size=1024, cross_val=False, data_path='data/GALLUP.csv', decay_rate=0.995, device='cpu', dropout=0.5, early_stopping_patience=50, experiment_name='NAM', feature_dropout=0.25, hidden_layer='relu', hidden_units=[64, 32, 32], id_fold=1, l2_regularization=0.001, learning_rate=0.00674, logdir='output', n_basis_functions=1024, n_folds=5, n_splits=3, num_epochs=10, num_models=1, output_regularization=0.01, regression=True, save_model_frequency=2, save_top_k=3, seed=2021, shallow_layer='exu', shuffle=True, units_multiplier=2, use_dnn=False, wandb=False)\n"
     ]
    }
   ],
   "metadata": {}
  },
  {
   "cell_type": "code",
   "execution_count": 3,
   "source": [
    "nam_data = NAMDataModule(config)"
   ],
   "outputs": [],
   "metadata": {}
  },
  {
   "cell_type": "code",
   "execution_count": 4,
   "source": [
    "nam_data.tmp_x_train"
   ],
   "outputs": [
    {
     "output_type": "execute_result",
     "data": {
      "text/plain": [
       "array([[-0.358533  , -0.21568628, -0.9350129 , ..., -0.99727434,\n",
       "         0.01806589, -0.52589643],\n",
       "       [-0.9338216 ,  0.21568628, -0.94332844, ..., -0.9968143 ,\n",
       "         0.1498406 , -0.6055777 ],\n",
       "       [-0.70525926,  0.29411766, -0.93020326, ..., -0.9953849 ,\n",
       "         0.10095643, -0.37649402],\n",
       "       ...,\n",
       "       [-0.1416808 ,  1.        , -0.9066077 , ..., -0.99659395,\n",
       "         0.10095643, -0.62350595],\n",
       "       [-0.5517165 , -0.5686275 , -0.9386992 , ..., -0.998227  ,\n",
       "        -0.7045696 ,  0.2808765 ],\n",
       "       [-0.49677935, -0.05882353, -0.9314878 , ..., -0.9969146 ,\n",
       "         0.1498406 , -0.5239044 ]], dtype=float32)"
      ]
     },
     "metadata": {},
     "execution_count": 4
    }
   ],
   "metadata": {}
  },
  {
   "cell_type": "code",
   "execution_count": 3,
   "source": [
    "train, (x_test, y_test) = nam.data.create_test_train_fold(dataset='sklearn_housing',\n",
    "                                                          id_fold=config.id_fold,\n",
    "                                                          n_folds=config.n_folds,\n",
    "                                                          n_splits=config.n_splits,\n",
    "                                                          regression=not config.regression)\n",
    "test_dataset = TensorDataset(torch.tensor(x_test), torch.tensor(y_test))\n",
    "test_dl = DataLoader(test_dataset, batch_size=config.batch_size, shuffle=not config.shuffle)"
   ],
   "outputs": [],
   "metadata": {}
  },
  {
   "cell_type": "code",
   "execution_count": 4,
   "source": [
    "train_ds = list(train)"
   ],
   "outputs": [],
   "metadata": {}
  },
  {
   "cell_type": "code",
   "execution_count": 5,
   "source": [
    "x_trains, y_trains, x_validates, y_validates = [],[],[],[]\n",
    "for fold in train_ds:\n",
    "    (x_train, y_train), (x_validate, y_validate) = fold\n",
    "    x_trains.append(torch.tensor(x_train))\n",
    "    y_trains.append(torch.tensor(y_train))\n",
    "    x_validates.append(torch.tensor(x_validate))\n",
    "    y_validates.append(torch.tensor(y_validate))"
   ],
   "outputs": [],
   "metadata": {}
  },
  {
   "cell_type": "code",
   "execution_count": 6,
   "source": [
    "tmp_x_train = x_train"
   ],
   "outputs": [],
   "metadata": {}
  },
  {
   "cell_type": "code",
   "execution_count": 7,
   "source": [
    "x_train = torch.cat(x_trains)\n",
    "y_train = torch.cat(y_trains)\n",
    "x_validate = torch.cat(x_validates)\n",
    "y_validate = torch.cat(y_validates)"
   ],
   "outputs": [],
   "metadata": {}
  },
  {
   "cell_type": "code",
   "execution_count": 8,
   "source": [
    "x_train.shape, x_validate.shape"
   ],
   "outputs": [
    {
     "output_type": "execute_result",
     "data": {
      "text/plain": [
       "(torch.Size([43344, 8]), torch.Size([6192, 8]))"
      ]
     },
     "metadata": {},
     "execution_count": 8
    }
   ],
   "metadata": {}
  },
  {
   "cell_type": "code",
   "execution_count": 9,
   "source": [
    "# torch.cat(x_trains, dim=0).shape, x_train.shape"
   ],
   "outputs": [],
   "metadata": {}
  },
  {
   "cell_type": "code",
   "execution_count": 10,
   "source": [
    "train_ds = TensorDataset(x_train, y_train)\n",
    "train_dl = DataLoader(train_ds, batch_size=config.batch_size, shuffle=config.shuffle, num_workers=8)\n",
    "\n",
    "val_ds = TensorDataset(x_validate, y_validate)\n",
    "val_dl = DataLoader(val_ds, batch_size=config.batch_size, shuffle=not config.shuffle, num_workers=8)"
   ],
   "outputs": [],
   "metadata": {}
  },
  {
   "cell_type": "code",
   "execution_count": 11,
   "source": [
    "# init model\n",
    "nam_model = NAM(config=config, x_train=tmp_x_train)\n",
    "\n",
    "# Initialize a trainer\n",
    "checkpoint_callback = ModelCheckpoint(\n",
    "    monitor=\"MAE_epoch\",\n",
    "    dirpath=\"/home/amrmkayid/nam/models/new/\",\n",
    "    filename=\"nam-{epoch:02d}-{MAE_epoch:.2f}\",\n",
    "    save_top_k=3,\n",
    "    mode=\"min\",\n",
    ")\n",
    "trainer = pl.Trainer(max_epochs=config.num_epochs, callbacks=[checkpoint_callback])  #, progress_bar_refresh_rate=20)\n",
    "\n",
    "# # Train the model ⚡\n",
    "trainer.fit(nam_model, train_dl, val_dl)"
   ],
   "outputs": [
    {
     "output_type": "stream",
     "name": "stderr",
     "text": [
      "GPU available: False, used: False\n",
      "TPU available: False, using: 0 TPU cores\n",
      "IPU available: False, using: 0 IPUs\n",
      "\n",
      "  | Name  | Type                | Params\n",
      "----------------------------------------------\n",
      "0 | model | NeuralAdditiveModel | 505 K \n",
      "----------------------------------------------\n",
      "505 K     Trainable params\n",
      "0         Non-trainable params\n",
      "505 K     Total params\n",
      "2.022     Total estimated model params size (MB)\n"
     ]
    },
    {
     "output_type": "display_data",
     "data": {
      "application/vnd.jupyter.widget-view+json": {
       "version_major": 2,
       "version_minor": 0,
       "model_id": "d95c9edf0f274de381558e5208220479"
      },
      "text/plain": [
       "Validation sanity check: 0it [00:00, ?it/s]"
      ]
     },
     "metadata": {}
    },
    {
     "output_type": "stream",
     "name": "stderr",
     "text": [
      "/home/amrmkayid/miniconda3/envs/nam/lib/python3.8/site-packages/pytorch_lightning/trainer/data_loading.py:326: UserWarning: The number of training samples (43) is smaller than the logging interval Trainer(log_every_n_steps=50). Set a lower value for log_every_n_steps if you want to see logs for the training epoch.\n",
      "  rank_zero_warn(\n"
     ]
    },
    {
     "output_type": "display_data",
     "data": {
      "application/vnd.jupyter.widget-view+json": {
       "version_major": 2,
       "version_minor": 0,
       "model_id": "0aa204b1ccc8464bb0ccb0b246324aa8"
      },
      "text/plain": [
       "Training: -1it [00:00, ?it/s]"
      ]
     },
     "metadata": {}
    },
    {
     "output_type": "display_data",
     "data": {
      "application/vnd.jupyter.widget-view+json": {
       "version_major": 2,
       "version_minor": 0,
       "model_id": "109209f30c20452697a006380bacc331"
      },
      "text/plain": [
       "Validating: 0it [00:00, ?it/s]"
      ]
     },
     "metadata": {}
    },
    {
     "output_type": "display_data",
     "data": {
      "application/vnd.jupyter.widget-view+json": {
       "version_major": 2,
       "version_minor": 0,
       "model_id": "77ae184ba2cf4eddaf22640a3818fa02"
      },
      "text/plain": [
       "Validating: 0it [00:00, ?it/s]"
      ]
     },
     "metadata": {}
    },
    {
     "output_type": "display_data",
     "data": {
      "application/vnd.jupyter.widget-view+json": {
       "version_major": 2,
       "version_minor": 0,
       "model_id": "55ba71943b2a421f94beaf5097872f03"
      },
      "text/plain": [
       "Validating: 0it [00:00, ?it/s]"
      ]
     },
     "metadata": {}
    },
    {
     "output_type": "display_data",
     "data": {
      "application/vnd.jupyter.widget-view+json": {
       "version_major": 2,
       "version_minor": 0,
       "model_id": "cb2f51d096ae491f8d25c63e9b1c0deb"
      },
      "text/plain": [
       "Validating: 0it [00:00, ?it/s]"
      ]
     },
     "metadata": {}
    },
    {
     "output_type": "display_data",
     "data": {
      "application/vnd.jupyter.widget-view+json": {
       "version_major": 2,
       "version_minor": 0,
       "model_id": "5936c821a4d8441489eff37b5c4430d4"
      },
      "text/plain": [
       "Validating: 0it [00:00, ?it/s]"
      ]
     },
     "metadata": {}
    },
    {
     "output_type": "display_data",
     "data": {
      "application/vnd.jupyter.widget-view+json": {
       "version_major": 2,
       "version_minor": 0,
       "model_id": "8dc137ec74c44f719ef7169e703497eb"
      },
      "text/plain": [
       "Validating: 0it [00:00, ?it/s]"
      ]
     },
     "metadata": {}
    },
    {
     "output_type": "display_data",
     "data": {
      "application/vnd.jupyter.widget-view+json": {
       "version_major": 2,
       "version_minor": 0,
       "model_id": "02cfeb2c3d6c4e6596e1d43e59056d20"
      },
      "text/plain": [
       "Validating: 0it [00:00, ?it/s]"
      ]
     },
     "metadata": {}
    },
    {
     "output_type": "display_data",
     "data": {
      "application/vnd.jupyter.widget-view+json": {
       "version_major": 2,
       "version_minor": 0,
       "model_id": "f4ab7338fa854cadaa88e9a1173842f2"
      },
      "text/plain": [
       "Validating: 0it [00:00, ?it/s]"
      ]
     },
     "metadata": {}
    },
    {
     "output_type": "display_data",
     "data": {
      "application/vnd.jupyter.widget-view+json": {
       "version_major": 2,
       "version_minor": 0,
       "model_id": "299f6dd09f7345a2ac7c1728ffca8fcb"
      },
      "text/plain": [
       "Validating: 0it [00:00, ?it/s]"
      ]
     },
     "metadata": {}
    },
    {
     "output_type": "display_data",
     "data": {
      "application/vnd.jupyter.widget-view+json": {
       "version_major": 2,
       "version_minor": 0,
       "model_id": "672ec5b4441b479cb9e9107dab7eb0de"
      },
      "text/plain": [
       "Validating: 0it [00:00, ?it/s]"
      ]
     },
     "metadata": {}
    }
   ],
   "metadata": {}
  },
  {
   "cell_type": "code",
   "execution_count": 12,
   "source": [
    "trainer.test(test_dataloaders=test_dl)"
   ],
   "outputs": [
    {
     "output_type": "stream",
     "name": "stderr",
     "text": [
      "/home/amrmkayid/miniconda3/envs/nam/lib/python3.8/site-packages/pytorch_lightning/trainer/trainer.py:678: LightningDeprecationWarning: `trainer.test(test_dataloaders)` is deprecated in v1.4 and will be removed in v1.6. Use `trainer.test(dataloaders)` instead.\n",
      "  rank_zero_deprecation(\n",
      "/home/amrmkayid/miniconda3/envs/nam/lib/python3.8/site-packages/pytorch_lightning/trainer/data_loading.py:105: UserWarning: The dataloader, test dataloader 0, does not have many workers which may be a bottleneck. Consider increasing the value of the `num_workers` argument` (try 8 which is the number of cpus on this machine) in the `DataLoader` init to improve performance.\n",
      "  rank_zero_warn(\n"
     ]
    },
    {
     "output_type": "display_data",
     "data": {
      "application/vnd.jupyter.widget-view+json": {
       "version_major": 2,
       "version_minor": 0,
       "model_id": "da71a3fdfeec49988bb432c369e649d6"
      },
      "text/plain": [
       "Testing: 0it [00:00, ?it/s]"
      ]
     },
     "metadata": {}
    },
    {
     "output_type": "stream",
     "name": "stdout",
     "text": [
      "--------------------------------------------------------------------------------\n",
      "DATALOADER:0 TEST RESULTS\n",
      "{'test_MAE': 0.8629046082496643, 'test_loss': 1.3837798833847046}\n",
      "--------------------------------------------------------------------------------\n"
     ]
    },
    {
     "output_type": "execute_result",
     "data": {
      "text/plain": [
       "[{'test_loss': 1.3837798833847046, 'test_MAE': 0.8629046082496643}]"
      ]
     },
     "metadata": {},
     "execution_count": 12
    }
   ],
   "metadata": {}
  },
  {
   "cell_type": "code",
   "execution_count": null,
   "source": [],
   "outputs": [],
   "metadata": {}
  }
 ],
 "metadata": {
  "orig_nbformat": 4,
  "language_info": {
   "name": "python",
   "version": "3.8.11",
   "mimetype": "text/x-python",
   "codemirror_mode": {
    "name": "ipython",
    "version": 3
   },
   "pygments_lexer": "ipython3",
   "nbconvert_exporter": "python",
   "file_extension": ".py"
  },
  "kernelspec": {
   "name": "python3",
   "display_name": "Python 3.8.11 64-bit ('nam': conda)"
  },
  "interpreter": {
   "hash": "b50af74b88e2c0bc6478fcb9bb6f187ad4a798847f880c76b576de5dd1fb6f88"
  }
 },
 "nbformat": 4,
 "nbformat_minor": 2
}